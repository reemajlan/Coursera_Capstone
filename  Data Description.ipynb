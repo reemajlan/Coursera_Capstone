{
    "cells": [
        {
            "cell_type": "markdown",
            "metadata": {
                "collapsed": true
            },
            "source": "# Data Science Project: Battle of Neighborhood"
        },
        {
            "cell_type": "markdown",
            "metadata": {},
            "source": "## Determining the location of a coffee shop in the city of Toronto, Canada"
        },
        {
            "cell_type": "markdown",
            "metadata": {},
            "source": "#### by Reem Ajlan"
        },
        {
            "cell_type": "markdown",
            "metadata": {},
            "source": "##  Problem Description:"
        },
        {
            "cell_type": "markdown",
            "metadata": {},
            "source": "Aser is an owner of a coffee shop in the downtown of Toronto. He used to live and work close to his coffee shop. He loves his coffee shop a lot and he takes very good care of it. Therefore, he used to go to it after work and spend the whole evening serving clients and making sure that they are happy and satisfied.\n\nRecently, he got a job offer in Scarborough. However, given the far distance from his current place, he unfortunately must move since he decided to accept the offer. He knew that the time he moves, it would be difficult for him to keep coming to the coffee shop and to keep the work going perfectly as usual.\n\nTherefore, he decided to relocate his coffee shop to be close to where he would live and work in Scarborough. This is a big decision to take because he might lose some of his clients. Therefore, before he moves forward with his decision, he needs to know if this is the right decision to take. He asked for a help to discover Scarborough and compare between the two neighborhoods. "
        },
        {
            "cell_type": "markdown",
            "metadata": {},
            "source": "#### Interest"
        },
        {
            "cell_type": "markdown",
            "metadata": {},
            "source": "Why would you be interested in this notebook?\n\n1- If you have a business in Toronto and you want to change the location. \n\n2- If you want to start a new business in Toronto and need to know more about locations and neighborhoods.\n\n3- If you want to move to either Downtown Toronto or Scarborough in Toronto and need to discover the area.\n\n4- If you want to visit Toronto and want to find the best coffee shops.  \n\nFor the above four conditions, this notebook will be helpful.\n\n \nThis model is specified to discover two neighborhoods in Toronto, Downtown Toronto and Scarborough."
        },
        {
            "cell_type": "markdown",
            "metadata": {},
            "source": "## Data Description"
        },
        {
            "cell_type": "markdown",
            "metadata": {},
            "source": "#### In order to answer the above questions, we need data containing Tornoto neighborhoods, boroughs to include boundaries, latitude, longitude, coffee shops, and coffee shops ratings and tips\n\n\n- The data with Toronto neighborhoods will be obtained from a Wikipedia page: https://en.wikipedia.org/wiki/List_of_postal_codes_of_Canada:_M that has all the information we need to explore and cluster the neighborhoods in Toronto. We will scrape the Wikipedia page and wrangle the data, clean it, and then read it into a pandas data frame so that it is in a structured format.\n\n\n- Toronto data containing neighborhood boundaries will be obtained from http://cocl.us/Geospatial_data\n\n\n- All data related to locations of coffee shops will be obtained via the FourSquare API utilized via the Request library in Python."
        },
        {
            "cell_type": "markdown",
            "metadata": {},
            "source": "#### Example"
        },
        {
            "cell_type": "markdown",
            "metadata": {},
            "source": "The data containing neighborhoods and boundaries will be used to discover coffee shops around the new neighborhood via the FourSquare API utilized. This discovery will give us an idea if opening a new coffee shop would be a good idea. "
        }
    ],
    "metadata": {
        "kernelspec": {
            "display_name": "Python 3.6",
            "language": "python",
            "name": "python3"
        },
        "language_info": {
            "codemirror_mode": {
                "name": "ipython",
                "version": 3
            },
            "file_extension": ".py",
            "mimetype": "text/x-python",
            "name": "python",
            "nbconvert_exporter": "python",
            "pygments_lexer": "ipython3",
            "version": "3.6.9"
        }
    },
    "nbformat": 4,
    "nbformat_minor": 1
}