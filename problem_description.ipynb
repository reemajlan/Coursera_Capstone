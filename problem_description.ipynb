{
    "cells": [
        {
            "cell_type": "markdown",
            "metadata": {
                "collapsed": true
            },
            "source": "# Data Science Project: Battle of Neighborhood"
        },
        {
            "cell_type": "markdown",
            "metadata": {},
            "source": "## Determining the location of a coffee shop in the city of Toronto, Canada"
        },
        {
            "cell_type": "markdown",
            "metadata": {},
            "source": "#### by Reem Ajlan"
        },
        {
            "cell_type": "markdown",
            "metadata": {},
            "source": "###  Problem Description:"
        },
        {
            "cell_type": "markdown",
            "metadata": {},
            "source": "Aser is an owner of a coffee shop in the downtown of Toronto. He used to live and work close to his coffee shop. He loves his coffee shop a lot and he takes very good care of it. Therefore, he used to go to it after work and spend the whole evening serving clients and making sure that they are happy and satisfied.\n\nRecently, he got a job offer in Scarborough. However, given the far distance from his current place, he unfortunately must move since he decided to accept the offer. He knew that the time he moves, it would be difficult for him to keep coming to the coffee shop and to keep the work going perfectly as usual.\n\nTherefore, he decided to relocate his coffee shop to be close to where he would live and work in Scarborough. This is a big decision to take because he might lose some of his clients. Therefore, before he moves forward with his decision, he needs to know if this is the right decision to take. He asked for a help to discover Scarborough and compare between the two neighborhoods. "
        },
        {
            "cell_type": "markdown",
            "metadata": {},
            "source": "If you have a business and you want to change the location, you should be absolutely confident about your decision by discovering the new location and making enough comparison between the two locations. \nHere I will demonstrate a model that would help you take a look at how the process would work. This model is specified to discover the two neighborhoods  in Toronto, Downtown Toronto and Scarborough."
        }
    ],
    "metadata": {
        "kernelspec": {
            "display_name": "Python 3.6",
            "language": "python",
            "name": "python3"
        },
        "language_info": {
            "codemirror_mode": {
                "name": "ipython",
                "version": 3
            },
            "file_extension": ".py",
            "mimetype": "text/x-python",
            "name": "python",
            "nbconvert_exporter": "python",
            "pygments_lexer": "ipython3",
            "version": "3.6.9"
        }
    },
    "nbformat": 4,
    "nbformat_minor": 1
}